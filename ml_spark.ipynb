{
 "cells": [
  {
   "attachments": {},
   "cell_type": "markdown",
   "metadata": {},
   "source": [
    "# Machine learning avec pyspark"
   ]
  },
  {
   "attachments": {},
   "cell_type": "markdown",
   "metadata": {},
   "source": [
    "Quand on veut faire du machine learning avec Pyspark, on doit transformer notre jeu de données pour qu'au final, il ne contienne qu'une ou deux colonnes : \n",
    "- Features, labels (Supervisé)\n",
    "- Features (Non-supervisé)\n",
    "\n",
    "Au début, cette transformation est contraignante qu'on a l'habitude de travailler avec pandas. \n",
    "\n",
    "Le facteur de succès pour travailler avec pyspark, c'est de s'y retrouve dans la documentation : \n",
    "https://spark.apache.org/docs/latest/ml-guide.html"
   ]
  },
  {
   "cell_type": "code",
   "execution_count": 40,
   "metadata": {},
   "outputs": [],
   "source": [
    "from pyspark.sql import SparkSession\n",
    "from pyspark.ml.classification import LogisticRegression\n",
    "spark=SparkSession.builder.appName('Titanic').getOrCreate()"
   ]
  },
  {
   "cell_type": "code",
   "execution_count": 41,
   "metadata": {},
   "outputs": [],
   "source": [
    "df = spark.read.csv('titanic_data.csv',header=True,inferSchema=True)"
   ]
  },
  {
   "cell_type": "code",
   "execution_count": 42,
   "metadata": {},
   "outputs": [],
   "source": [
    "# Je renomme les colonnes\n",
    "col_names = [x.lower() for x in df.columns]\n",
    "df = df.toDF(*col_names)"
   ]
  },
  {
   "cell_type": "code",
   "execution_count": 43,
   "metadata": {},
   "outputs": [
    {
     "name": "stdout",
     "output_type": "stream",
     "text": [
      "+-----------+--------+------+--------------------+------+----+-----+-----+----------------+-------+-----+--------+\n",
      "|passengerid|survived|pclass|                name|   sex| age|sibsp|parch|          ticket|   fare|cabin|embarked|\n",
      "+-----------+--------+------+--------------------+------+----+-----+-----+----------------+-------+-----+--------+\n",
      "|          1|       0|     3|Braund, Mr. Owen ...|  male|22.0|    1|    0|       A/5 21171|   7.25| null|       S|\n",
      "|          2|       1|     1|Cumings, Mrs. Joh...|female|38.0|    1|    0|        PC 17599|71.2833|  C85|       C|\n",
      "|          3|       1|     3|Heikkinen, Miss. ...|female|26.0|    0|    0|STON/O2. 3101282|  7.925| null|       S|\n",
      "|          4|       1|     1|Futrelle, Mrs. Ja...|female|35.0|    1|    0|          113803|   53.1| C123|       S|\n",
      "|          5|       0|     3|Allen, Mr. Willia...|  male|35.0|    0|    0|          373450|   8.05| null|       S|\n",
      "|          6|       0|     3|    Moran, Mr. James|  male|null|    0|    0|          330877| 8.4583| null|       Q|\n",
      "|          7|       0|     1|McCarthy, Mr. Tim...|  male|54.0|    0|    0|           17463|51.8625|  E46|       S|\n",
      "|          8|       0|     3|Palsson, Master. ...|  male| 2.0|    3|    1|          349909| 21.075| null|       S|\n",
      "|          9|       1|     3|Johnson, Mrs. Osc...|female|27.0|    0|    2|          347742|11.1333| null|       S|\n",
      "|         10|       1|     2|Nasser, Mrs. Nich...|female|14.0|    1|    0|          237736|30.0708| null|       C|\n",
      "|         11|       1|     3|Sandstrom, Miss. ...|female| 4.0|    1|    1|         PP 9549|   16.7|   G6|       S|\n",
      "|         12|       1|     1|Bonnell, Miss. El...|female|58.0|    0|    0|          113783|  26.55| C103|       S|\n",
      "|         13|       0|     3|Saundercock, Mr. ...|  male|20.0|    0|    0|       A/5. 2151|   8.05| null|       S|\n",
      "|         14|       0|     3|Andersson, Mr. An...|  male|39.0|    1|    5|          347082| 31.275| null|       S|\n",
      "|         15|       0|     3|Vestrom, Miss. Hu...|female|14.0|    0|    0|          350406| 7.8542| null|       S|\n",
      "|         16|       1|     2|Hewlett, Mrs. (Ma...|female|55.0|    0|    0|          248706|   16.0| null|       S|\n",
      "|         17|       0|     3|Rice, Master. Eugene|  male| 2.0|    4|    1|          382652| 29.125| null|       Q|\n",
      "|         18|       1|     2|Williams, Mr. Cha...|  male|null|    0|    0|          244373|   13.0| null|       S|\n",
      "|         19|       0|     3|Vander Planke, Mr...|female|31.0|    1|    0|          345763|   18.0| null|       S|\n",
      "|         20|       1|     3|Masselmani, Mrs. ...|female|null|    0|    0|            2649|  7.225| null|       C|\n",
      "+-----------+--------+------+--------------------+------+----+-----+-----+----------------+-------+-----+--------+\n",
      "only showing top 20 rows\n",
      "\n"
     ]
    }
   ],
   "source": [
    "df.show()"
   ]
  },
  {
   "cell_type": "code",
   "execution_count": 44,
   "metadata": {},
   "outputs": [
    {
     "name": "stdout",
     "output_type": "stream",
     "text": [
      "+-----------+--------+------+----+---+---+-----+-----+------+----+-----+--------+\n",
      "|passengerid|survived|pclass|name|sex|age|sibsp|parch|ticket|fare|cabin|embarked|\n",
      "+-----------+--------+------+----+---+---+-----+-----+------+----+-----+--------+\n",
      "|          0|       0|     0|   0|  0|177|    0|    0|     0|   0|  687|       2|\n",
      "+-----------+--------+------+----+---+---+-----+-----+------+----+-----+--------+\n",
      "\n"
     ]
    }
   ],
   "source": [
    "# valeurs manquantes\n",
    "from pyspark.sql.functions import when, count, col, isnull\n",
    "\n",
    "df.select([count(when(isnull(c), c)).alias(c) for c in df.columns]).show()"
   ]
  },
  {
   "cell_type": "code",
   "execution_count": 45,
   "metadata": {},
   "outputs": [],
   "source": [
    "from pyspark.ml.feature import Imputer\n",
    "\n",
    "imputer = Imputer(\n",
    "    inputCol='age', \n",
    "    outputCol='age'\n",
    "    ).setStrategy(\"mean\")\n",
    "\n",
    "df = imputer.fit(df).transform(df)"
   ]
  },
  {
   "cell_type": "code",
   "execution_count": 46,
   "metadata": {},
   "outputs": [
    {
     "name": "stdout",
     "output_type": "stream",
     "text": [
      "+-----------+--------+------+----+---+---+-----+-----+------+----+--------+\n",
      "|passengerid|survived|pclass|name|sex|age|sibsp|parch|ticket|fare|embarked|\n",
      "+-----------+--------+------+----+---+---+-----+-----+------+----+--------+\n",
      "|          0|       0|     0|   0|  0|  0|    0|    0|     0|   0|       2|\n",
      "+-----------+--------+------+----+---+---+-----+-----+------+----+--------+\n",
      "\n"
     ]
    }
   ],
   "source": [
    "df = df.drop('cabin') # je drop Cabin car trop de valeurs manquantes\n",
    "\n",
    "df.select([count(when(isnull(c), c)).alias(c) for c in df.columns]).show()"
   ]
  },
  {
   "cell_type": "code",
   "execution_count": 47,
   "metadata": {},
   "outputs": [
    {
     "name": "stdout",
     "output_type": "stream",
     "text": [
      "+-----------+--------+------+--------------------+------+-----------------+-----+-----+----------------+-------+--------+\n",
      "|passengerid|survived|pclass|                name|   sex|              age|sibsp|parch|          ticket|   fare|embarked|\n",
      "+-----------+--------+------+--------------------+------+-----------------+-----+-----+----------------+-------+--------+\n",
      "|          1|       0|     3|Braund, Mr. Owen ...|  male|             22.0|    1|    0|       A/5 21171|   7.25|       S|\n",
      "|          2|       1|     1|Cumings, Mrs. Joh...|female|             38.0|    1|    0|        PC 17599|71.2833|       C|\n",
      "|          3|       1|     3|Heikkinen, Miss. ...|female|             26.0|    0|    0|STON/O2. 3101282|  7.925|       S|\n",
      "|          4|       1|     1|Futrelle, Mrs. Ja...|female|             35.0|    1|    0|          113803|   53.1|       S|\n",
      "|          5|       0|     3|Allen, Mr. Willia...|  male|             35.0|    0|    0|          373450|   8.05|       S|\n",
      "|          6|       0|     3|    Moran, Mr. James|  male|29.69911764705882|    0|    0|          330877| 8.4583|       Q|\n",
      "|          7|       0|     1|McCarthy, Mr. Tim...|  male|             54.0|    0|    0|           17463|51.8625|       S|\n",
      "|          8|       0|     3|Palsson, Master. ...|  male|              2.0|    3|    1|          349909| 21.075|       S|\n",
      "|          9|       1|     3|Johnson, Mrs. Osc...|female|             27.0|    0|    2|          347742|11.1333|       S|\n",
      "|         10|       1|     2|Nasser, Mrs. Nich...|female|             14.0|    1|    0|          237736|30.0708|       C|\n",
      "|         11|       1|     3|Sandstrom, Miss. ...|female|              4.0|    1|    1|         PP 9549|   16.7|       S|\n",
      "|         12|       1|     1|Bonnell, Miss. El...|female|             58.0|    0|    0|          113783|  26.55|       S|\n",
      "|         13|       0|     3|Saundercock, Mr. ...|  male|             20.0|    0|    0|       A/5. 2151|   8.05|       S|\n",
      "|         14|       0|     3|Andersson, Mr. An...|  male|             39.0|    1|    5|          347082| 31.275|       S|\n",
      "|         15|       0|     3|Vestrom, Miss. Hu...|female|             14.0|    0|    0|          350406| 7.8542|       S|\n",
      "|         16|       1|     2|Hewlett, Mrs. (Ma...|female|             55.0|    0|    0|          248706|   16.0|       S|\n",
      "|         17|       0|     3|Rice, Master. Eugene|  male|              2.0|    4|    1|          382652| 29.125|       Q|\n",
      "|         18|       1|     2|Williams, Mr. Cha...|  male|29.69911764705882|    0|    0|          244373|   13.0|       S|\n",
      "|         19|       0|     3|Vander Planke, Mr...|female|             31.0|    1|    0|          345763|   18.0|       S|\n",
      "|         20|       1|     3|Masselmani, Mrs. ...|female|29.69911764705882|    0|    0|            2649|  7.225|       C|\n",
      "+-----------+--------+------+--------------------+------+-----------------+-----+-----+----------------+-------+--------+\n",
      "only showing top 20 rows\n",
      "\n"
     ]
    }
   ],
   "source": [
    "df.show()\n",
    "# Je vais utiliser Pclass, Sex, Age, SibSp, Parch, Fare"
   ]
  },
  {
   "cell_type": "code",
   "execution_count": 48,
   "metadata": {},
   "outputs": [
    {
     "name": "stdout",
     "output_type": "stream",
     "text": [
      "+------+------+-----------------+-----+-----+-------+--------+\n",
      "|pclass|   sex|              age|sibsp|parch|   fare|survived|\n",
      "+------+------+-----------------+-----+-----+-------+--------+\n",
      "|     3|  male|             22.0|    1|    0|   7.25|       0|\n",
      "|     1|female|             38.0|    1|    0|71.2833|       1|\n",
      "|     3|female|             26.0|    0|    0|  7.925|       1|\n",
      "|     1|female|             35.0|    1|    0|   53.1|       1|\n",
      "|     3|  male|             35.0|    0|    0|   8.05|       0|\n",
      "|     3|  male|29.69911764705882|    0|    0| 8.4583|       0|\n",
      "|     1|  male|             54.0|    0|    0|51.8625|       0|\n",
      "|     3|  male|              2.0|    3|    1| 21.075|       0|\n",
      "|     3|female|             27.0|    0|    2|11.1333|       1|\n",
      "|     2|female|             14.0|    1|    0|30.0708|       1|\n",
      "|     3|female|              4.0|    1|    1|   16.7|       1|\n",
      "|     1|female|             58.0|    0|    0|  26.55|       1|\n",
      "|     3|  male|             20.0|    0|    0|   8.05|       0|\n",
      "|     3|  male|             39.0|    1|    5| 31.275|       0|\n",
      "|     3|female|             14.0|    0|    0| 7.8542|       0|\n",
      "|     2|female|             55.0|    0|    0|   16.0|       1|\n",
      "|     3|  male|              2.0|    4|    1| 29.125|       0|\n",
      "|     2|  male|29.69911764705882|    0|    0|   13.0|       1|\n",
      "|     3|female|             31.0|    1|    0|   18.0|       0|\n",
      "|     3|female|29.69911764705882|    0|    0|  7.225|       1|\n",
      "+------+------+-----------------+-----+-----+-------+--------+\n",
      "only showing top 20 rows\n",
      "\n"
     ]
    }
   ],
   "source": [
    "df = df.select(['pclass', 'sex', 'age', 'sibsp', 'parch', 'fare', 'survived'])\n",
    "df.show()"
   ]
  },
  {
   "cell_type": "code",
   "execution_count": 49,
   "metadata": {},
   "outputs": [
    {
     "name": "stdout",
     "output_type": "stream",
     "text": [
      "+------+---+---+-----+-----+----+--------+\n",
      "|pclass|sex|age|sibsp|parch|fare|survived|\n",
      "+------+---+---+-----+-----+----+--------+\n",
      "|     0|  0|  0|    0|    0|   0|       0|\n",
      "+------+---+---+-----+-----+----+--------+\n",
      "\n"
     ]
    }
   ],
   "source": [
    "df.select([count(when(isnull(c), c)).alias(c) for c in df.columns]).show()"
   ]
  },
  {
   "cell_type": "code",
   "execution_count": null,
   "metadata": {},
   "outputs": [],
   "source": [
    "from pyspark.sql import SparkSession\n",
    "from pyspark.ml.feature import StringIndexer, OneHotEncoder, VectorAssembler\n"
   ]
  },
  {
   "cell_type": "code",
   "execution_count": 50,
   "metadata": {},
   "outputs": [
    {
     "name": "stdout",
     "output_type": "stream",
     "text": [
      "+------+------+-----------------+-----+-----+-------+--------+-----------+\n",
      "|pclass|   sex|              age|sibsp|parch|   fare|survived|sex_indexed|\n",
      "+------+------+-----------------+-----+-----+-------+--------+-----------+\n",
      "|     3|  male|             22.0|    1|    0|   7.25|       0|        0.0|\n",
      "|     1|female|             38.0|    1|    0|71.2833|       1|        1.0|\n",
      "|     3|female|             26.0|    0|    0|  7.925|       1|        1.0|\n",
      "|     1|female|             35.0|    1|    0|   53.1|       1|        1.0|\n",
      "|     3|  male|             35.0|    0|    0|   8.05|       0|        0.0|\n",
      "|     3|  male|29.69911764705882|    0|    0| 8.4583|       0|        0.0|\n",
      "|     1|  male|             54.0|    0|    0|51.8625|       0|        0.0|\n",
      "|     3|  male|              2.0|    3|    1| 21.075|       0|        0.0|\n",
      "|     3|female|             27.0|    0|    2|11.1333|       1|        1.0|\n",
      "|     2|female|             14.0|    1|    0|30.0708|       1|        1.0|\n",
      "|     3|female|              4.0|    1|    1|   16.7|       1|        1.0|\n",
      "|     1|female|             58.0|    0|    0|  26.55|       1|        1.0|\n",
      "|     3|  male|             20.0|    0|    0|   8.05|       0|        0.0|\n",
      "|     3|  male|             39.0|    1|    5| 31.275|       0|        0.0|\n",
      "|     3|female|             14.0|    0|    0| 7.8542|       0|        1.0|\n",
      "|     2|female|             55.0|    0|    0|   16.0|       1|        1.0|\n",
      "|     3|  male|              2.0|    4|    1| 29.125|       0|        0.0|\n",
      "|     2|  male|29.69911764705882|    0|    0|   13.0|       1|        0.0|\n",
      "|     3|female|             31.0|    1|    0|   18.0|       0|        1.0|\n",
      "|     3|female|29.69911764705882|    0|    0|  7.225|       1|        1.0|\n",
      "+------+------+-----------------+-----+-----+-------+--------+-----------+\n",
      "only showing top 20 rows\n",
      "\n"
     ]
    }
   ],
   "source": [
    "### Handling Categorical Features\n",
    "from pyspark.ml.feature import StringIndexer\n",
    "indexer=StringIndexer(inputCol=\"sex\",outputCol=\"sex_indexed\")\n",
    "df_r=indexer.fit(df).transform(df)\n",
    "df_r.show()"
   ]
  },
  {
   "cell_type": "code",
   "execution_count": 51,
   "metadata": {},
   "outputs": [],
   "source": [
    "features_list = df_r.columns.copy()\n",
    "features_list.remove('survived')\n",
    "features_list.remove('sex')"
   ]
  },
  {
   "cell_type": "code",
   "execution_count": 52,
   "metadata": {},
   "outputs": [],
   "source": [
    "from pyspark.ml.feature import VectorAssembler\n",
    "featureassembler=VectorAssembler(inputCols=features_list,outputCol=\"X\")\n",
    "output=featureassembler.transform(df_r)"
   ]
  },
  {
   "cell_type": "code",
   "execution_count": 53,
   "metadata": {},
   "outputs": [
    {
     "name": "stdout",
     "output_type": "stream",
     "text": [
      "+------+------+-----------------+-----+-----+-------+--------+-----------+--------------------+\n",
      "|pclass|   sex|              age|sibsp|parch|   fare|survived|sex_indexed|                   X|\n",
      "+------+------+-----------------+-----+-----+-------+--------+-----------+--------------------+\n",
      "|     3|  male|             22.0|    1|    0|   7.25|       0|        0.0|[3.0,22.0,1.0,0.0...|\n",
      "|     1|female|             38.0|    1|    0|71.2833|       1|        1.0|[1.0,38.0,1.0,0.0...|\n",
      "|     3|female|             26.0|    0|    0|  7.925|       1|        1.0|[3.0,26.0,0.0,0.0...|\n",
      "|     1|female|             35.0|    1|    0|   53.1|       1|        1.0|[1.0,35.0,1.0,0.0...|\n",
      "|     3|  male|             35.0|    0|    0|   8.05|       0|        0.0|[3.0,35.0,0.0,0.0...|\n",
      "|     3|  male|29.69911764705882|    0|    0| 8.4583|       0|        0.0|[3.0,29.699117647...|\n",
      "|     1|  male|             54.0|    0|    0|51.8625|       0|        0.0|[1.0,54.0,0.0,0.0...|\n",
      "|     3|  male|              2.0|    3|    1| 21.075|       0|        0.0|[3.0,2.0,3.0,1.0,...|\n",
      "|     3|female|             27.0|    0|    2|11.1333|       1|        1.0|[3.0,27.0,0.0,2.0...|\n",
      "|     2|female|             14.0|    1|    0|30.0708|       1|        1.0|[2.0,14.0,1.0,0.0...|\n",
      "|     3|female|              4.0|    1|    1|   16.7|       1|        1.0|[3.0,4.0,1.0,1.0,...|\n",
      "|     1|female|             58.0|    0|    0|  26.55|       1|        1.0|[1.0,58.0,0.0,0.0...|\n",
      "|     3|  male|             20.0|    0|    0|   8.05|       0|        0.0|[3.0,20.0,0.0,0.0...|\n",
      "|     3|  male|             39.0|    1|    5| 31.275|       0|        0.0|[3.0,39.0,1.0,5.0...|\n",
      "|     3|female|             14.0|    0|    0| 7.8542|       0|        1.0|[3.0,14.0,0.0,0.0...|\n",
      "|     2|female|             55.0|    0|    0|   16.0|       1|        1.0|[2.0,55.0,0.0,0.0...|\n",
      "|     3|  male|              2.0|    4|    1| 29.125|       0|        0.0|[3.0,2.0,4.0,1.0,...|\n",
      "|     2|  male|29.69911764705882|    0|    0|   13.0|       1|        0.0|[2.0,29.699117647...|\n",
      "|     3|female|             31.0|    1|    0|   18.0|       0|        1.0|[3.0,31.0,1.0,0.0...|\n",
      "|     3|female|29.69911764705882|    0|    0|  7.225|       1|        1.0|[3.0,29.699117647...|\n",
      "+------+------+-----------------+-----+-----+-------+--------+-----------+--------------------+\n",
      "only showing top 20 rows\n",
      "\n"
     ]
    }
   ],
   "source": [
    "output.show()"
   ]
  },
  {
   "cell_type": "code",
   "execution_count": 54,
   "metadata": {},
   "outputs": [],
   "source": [
    "train_data,test_data=output.randomSplit([0.75,0.25])\n",
    "\n",
    "classifier = LogisticRegression(featuresCol='X', labelCol='survived')\n",
    "classifier = classifier.fit(train_data)"
   ]
  },
  {
   "cell_type": "code",
   "execution_count": 55,
   "metadata": {},
   "outputs": [],
   "source": [
    "results = classifier.evaluate(test_data)"
   ]
  },
  {
   "cell_type": "code",
   "execution_count": 56,
   "metadata": {},
   "outputs": [
    {
     "data": {
      "text/plain": [
       "0.75"
      ]
     },
     "execution_count": 56,
     "metadata": {},
     "output_type": "execute_result"
    }
   ],
   "source": [
    "results.accuracy"
   ]
  },
  {
   "cell_type": "code",
   "execution_count": null,
   "metadata": {},
   "outputs": [],
   "source": []
  }
 ],
 "metadata": {
  "kernelspec": {
   "display_name": "pyspark_env",
   "language": "python",
   "name": "python3"
  },
  "language_info": {
   "codemirror_mode": {
    "name": "ipython",
    "version": 3
   },
   "file_extension": ".py",
   "mimetype": "text/x-python",
   "name": "python",
   "nbconvert_exporter": "python",
   "pygments_lexer": "ipython3",
   "version": "3.10.8"
  },
  "orig_nbformat": 4,
  "vscode": {
   "interpreter": {
    "hash": "6775bbb9177832076e5c270f2a791b52d4779bd0dd5faa70c55ed36de2e6ccae"
   }
  }
 },
 "nbformat": 4,
 "nbformat_minor": 2
}
